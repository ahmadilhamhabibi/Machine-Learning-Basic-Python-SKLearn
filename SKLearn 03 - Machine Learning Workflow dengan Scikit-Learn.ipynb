{
 "cells": [
  {
   "cell_type": "markdown",
   "id": "86acfb63",
   "metadata": {},
   "source": [
    "# Persiapan Dataset"
   ]
  },
  {
   "cell_type": "markdown",
   "id": "18d07908",
   "metadata": {},
   "source": [
    "### Load Sample Dataset: Iris Dataset"
   ]
  },
  {
   "cell_type": "code",
   "execution_count": 1,
   "id": "2d90c48b",
   "metadata": {},
   "outputs": [],
   "source": [
    "from sklearn.datasets import load_iris\n",
    "\n",
    "iris = load_iris()\n",
    "\n",
    "X = iris.data\n",
    "y = iris.target"
   ]
  },
  {
   "cell_type": "markdown",
   "id": "78db40b2",
   "metadata": {},
   "source": [
    "# Splitting Dataset: Training & Testing Set"
   ]
  },
  {
   "cell_type": "code",
   "execution_count": 2,
   "id": "c90178bb",
   "metadata": {},
   "outputs": [],
   "source": [
    "from sklearn.model_selection import train_test_split\n",
    "\n",
    "X_train, X_test, y_train, y_test = train_test_split(X,\n",
    "                                                    y,\n",
    "                                                    test_size=0.4,\n",
    "                                                    random_state=1)"
   ]
  },
  {
   "cell_type": "markdown",
   "id": "00a06627",
   "metadata": {},
   "source": [
    "# Training Model\n",
    "\n",
    "*   Pada Skicit Learn, model machine learning dibentuk dari class yang dikenal dengan istilah **estimator**.\n",
    "*   Setiap estimator akan mengimplementasikan dua methode utama yaitu `fit()` dan `predict()`.\n",
    "* method `fit()` digunakan untuk melakukan training model.\n",
    "* method `predict()` digunakan untuk melakukan estimasi/prediksi dengan memanfaatkan trained model."
   ]
  },
  {
   "cell_type": "code",
   "execution_count": 3,
   "id": "5d82b5f3",
   "metadata": {},
   "outputs": [
    {
     "data": {
      "text/plain": [
       "KNeighborsClassifier(n_neighbors=3)"
      ]
     },
     "execution_count": 3,
     "metadata": {},
     "output_type": "execute_result"
    }
   ],
   "source": [
    "from sklearn.neighbors import KNeighborsClassifier\n",
    "\n",
    "model = KNeighborsClassifier(n_neighbors=3)\n",
    "model.fit(X_train, y_train)"
   ]
  },
  {
   "cell_type": "markdown",
   "id": "d8a8b67b",
   "metadata": {},
   "source": [
    "# Evaluasi Model"
   ]
  },
  {
   "cell_type": "code",
   "execution_count": 4,
   "id": "827bc7b0",
   "metadata": {},
   "outputs": [
    {
     "name": "stdout",
     "output_type": "stream",
     "text": [
      "Accuracy: 0.9833333333333333\n"
     ]
    }
   ],
   "source": [
    "from sklearn.metrics import accuracy_score\n",
    "\n",
    "y_pred = model.predict(X_test)\n",
    "acc = accuracy_score(y_test, y_pred)\n",
    "print(f'Accuracy: {acc}')"
   ]
  },
  {
   "cell_type": "markdown",
   "id": "649b821e",
   "metadata": {},
   "source": [
    "# Pemanfaatan Trained Model"
   ]
  },
  {
   "cell_type": "code",
   "execution_count": 5,
   "id": "858db2f9",
   "metadata": {},
   "outputs": [
    {
     "data": {
      "text/plain": [
       "array([1, 2])"
      ]
     },
     "execution_count": 5,
     "metadata": {},
     "output_type": "execute_result"
    }
   ],
   "source": [
    "data_baru = [[5, 5, 3, 2],\n",
    "             [2, 4, 3, 5]]\n",
    "\n",
    "preds = model.predict(data_baru)\n",
    "preds"
   ]
  },
  {
   "cell_type": "code",
   "execution_count": 6,
   "id": "f9b7d4c8",
   "metadata": {},
   "outputs": [
    {
     "name": "stdout",
     "output_type": "stream",
     "text": [
      "Hasil Prediksi: ['versicolor', 'virginica']\n"
     ]
    }
   ],
   "source": [
    "pred_species = [iris.target_names[x] for x in preds]\n",
    "print(f'Hasil Prediksi: {pred_species}')"
   ]
  },
  {
   "cell_type": "markdown",
   "id": "8a962676",
   "metadata": {},
   "source": [
    "# Dump & Load Trained Model"
   ]
  },
  {
   "cell_type": "markdown",
   "id": "efc419fe",
   "metadata": {},
   "source": [
    "### Dumping Model Machine Learning menjadi file `joblib`"
   ]
  },
  {
   "cell_type": "code",
   "execution_count": 7,
   "id": "b8a6747a",
   "metadata": {},
   "outputs": [
    {
     "data": {
      "text/plain": [
       "['iris_classifier_knn.joblib']"
      ]
     },
     "execution_count": 7,
     "metadata": {},
     "output_type": "execute_result"
    }
   ],
   "source": [
    "import joblib\n",
    "\n",
    "joblib.dump(model, \"iris_classifier_knn.joblib\")"
   ]
  },
  {
   "cell_type": "markdown",
   "id": "8467c9bc",
   "metadata": {},
   "source": [
    "### Loading Model Machine Learning dari file `joblib`"
   ]
  },
  {
   "cell_type": "code",
   "execution_count": 8,
   "id": "4a73b1c0",
   "metadata": {},
   "outputs": [],
   "source": [
    "production_model = joblib.load(\"iris_classifier_knn.joblib\")"
   ]
  },
  {
   "cell_type": "code",
   "execution_count": null,
   "id": "5bd3e4ff",
   "metadata": {},
   "outputs": [],
   "source": []
  }
 ],
 "metadata": {
  "kernelspec": {
   "display_name": "Python 3",
   "language": "python",
   "name": "python3"
  },
  "language_info": {
   "codemirror_mode": {
    "name": "ipython",
    "version": 3
   },
   "file_extension": ".py",
   "mimetype": "text/x-python",
   "name": "python",
   "nbconvert_exporter": "python",
   "pygments_lexer": "ipython3",
   "version": "3.8.8"
  }
 },
 "nbformat": 4,
 "nbformat_minor": 5
}
